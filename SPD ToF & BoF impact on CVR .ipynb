{
 "cells": [
  {
   "cell_type": "code",
   "execution_count": 1,
   "metadata": {},
   "outputs": [],
   "source": [
    "#Import needed libraries\n",
    "import os\n",
    "import datetime\n",
    "import numpy as np\n",
    "import pandas as pd\n",
    "import seaborn as sns\n",
    "import matplotlib.pyplot as plt\n",
    "from datetime import datetime as dt\n",
    "%matplotlib inline\n",
    "\n",
    "#Load data\n",
    "df = pd.read_excel(\"ToF_BoF_CVR_Dataset.xlsx\", sheet_name = 'Weekly')\n",
    "df2 = pd.read_excel(\"ToF_BoF_CVR_Dataset.xlsx\", sheet_name = 'Dayly')\n",
    "\n",
    "#Calculate bps for TOF\n",
    "df['CVR_Impact'] = df['CVR'].transform(lambda x: x.diff())*100\n",
    "df['TOF_BPS'] = df['TOF'].transform(lambda x: x.diff())*100\n",
    "df['BOF_BPS'] = df['BOF'].transform(lambda x: x.diff())*100\n",
    "df.sort_index(inplace=True)\n",
    "\n",
    "#Calculate bps for BOF\n",
    "df2['CVR_Impact'] = df2['CVR'].transform(lambda x: x.diff())*100\n",
    "df2['TOF_BPS'] = df2['TOF'].transform(lambda x: x.diff())*100\n",
    "df2['BOF_BPS'] = df2['BOF'].transform(lambda x: x.diff())*100\n",
    "df2.sort_index(inplace=True)"
   ]
  },
  {
   "cell_type": "code",
   "execution_count": 2,
   "metadata": {},
   "outputs": [
    {
     "data": {
      "text/html": [
       "<div>\n",
       "<style scoped>\n",
       "    .dataframe tbody tr th:only-of-type {\n",
       "        vertical-align: middle;\n",
       "    }\n",
       "\n",
       "    .dataframe tbody tr th {\n",
       "        vertical-align: top;\n",
       "    }\n",
       "\n",
       "    .dataframe thead th {\n",
       "        text-align: right;\n",
       "    }\n",
       "</style>\n",
       "<table border=\"1\" class=\"dataframe\">\n",
       "  <thead>\n",
       "    <tr style=\"text-align: right;\">\n",
       "      <th></th>\n",
       "      <th>Date</th>\n",
       "      <th>TOF</th>\n",
       "      <th>BOF</th>\n",
       "      <th>CVR</th>\n",
       "      <th>CVR_Impact</th>\n",
       "      <th>TOF_BPS</th>\n",
       "      <th>BOF_BPS</th>\n",
       "    </tr>\n",
       "  </thead>\n",
       "  <tbody>\n",
       "    <tr>\n",
       "      <td>0</td>\n",
       "      <td>2020-02-02</td>\n",
       "      <td>0.028686</td>\n",
       "      <td>0.371341</td>\n",
       "      <td>0.010652</td>\n",
       "      <td>NaN</td>\n",
       "      <td>NaN</td>\n",
       "      <td>NaN</td>\n",
       "    </tr>\n",
       "    <tr>\n",
       "      <td>1</td>\n",
       "      <td>2020-02-09</td>\n",
       "      <td>0.027121</td>\n",
       "      <td>0.359975</td>\n",
       "      <td>0.009763</td>\n",
       "      <td>-0.088917</td>\n",
       "      <td>-0.156430</td>\n",
       "      <td>-1.136671</td>\n",
       "    </tr>\n",
       "    <tr>\n",
       "      <td>2</td>\n",
       "      <td>2020-02-16</td>\n",
       "      <td>0.026712</td>\n",
       "      <td>0.367484</td>\n",
       "      <td>0.009816</td>\n",
       "      <td>0.005345</td>\n",
       "      <td>-0.040878</td>\n",
       "      <td>0.750950</td>\n",
       "    </tr>\n",
       "    <tr>\n",
       "      <td>3</td>\n",
       "      <td>2020-02-23</td>\n",
       "      <td>0.027379</td>\n",
       "      <td>0.373661</td>\n",
       "      <td>0.010231</td>\n",
       "      <td>0.041414</td>\n",
       "      <td>0.066679</td>\n",
       "      <td>0.617627</td>\n",
       "    </tr>\n",
       "    <tr>\n",
       "      <td>4</td>\n",
       "      <td>2020-03-01</td>\n",
       "      <td>0.028887</td>\n",
       "      <td>0.379878</td>\n",
       "      <td>0.010974</td>\n",
       "      <td>0.074302</td>\n",
       "      <td>0.150787</td>\n",
       "      <td>0.621706</td>\n",
       "    </tr>\n",
       "  </tbody>\n",
       "</table>\n",
       "</div>"
      ],
      "text/plain": [
       "        Date       TOF       BOF       CVR  CVR_Impact   TOF_BPS   BOF_BPS\n",
       "0 2020-02-02  0.028686  0.371341  0.010652         NaN       NaN       NaN\n",
       "1 2020-02-09  0.027121  0.359975  0.009763   -0.088917 -0.156430 -1.136671\n",
       "2 2020-02-16  0.026712  0.367484  0.009816    0.005345 -0.040878  0.750950\n",
       "3 2020-02-23  0.027379  0.373661  0.010231    0.041414  0.066679  0.617627\n",
       "4 2020-03-01  0.028887  0.379878  0.010974    0.074302  0.150787  0.621706"
      ]
     },
     "execution_count": 2,
     "metadata": {},
     "output_type": "execute_result"
    }
   ],
   "source": [
    "#View few rows\n",
    "df.head()"
   ]
  },
  {
   "cell_type": "code",
   "execution_count": 3,
   "metadata": {},
   "outputs": [
    {
     "data": {
      "text/plain": [
       "(1.62, 2.21)"
      ]
     },
     "execution_count": 3,
     "metadata": {},
     "output_type": "execute_result"
    }
   ],
   "source": [
    "round(df.TOF_BPS.max(),2),round(df.BOF_BPS.max(),2)"
   ]
  },
  {
   "cell_type": "code",
   "execution_count": 4,
   "metadata": {},
   "outputs": [
    {
     "data": {
      "text/plain": [
       "((31, 7), (235, 7))"
      ]
     },
     "execution_count": 4,
     "metadata": {},
     "output_type": "execute_result"
    }
   ],
   "source": [
    "df.shape,df2.shape"
   ]
  },
  {
   "cell_type": "code",
   "execution_count": 34,
   "metadata": {},
   "outputs": [],
   "source": [
    "df.to_excel('ToF_BoF_Weekly.xlsx',index=False)\n",
    "df2.to_excel('ToF_BoF_Dayly.xlsx',index=False)"
   ]
  },
  {
   "cell_type": "code",
   "execution_count": 5,
   "metadata": {},
   "outputs": [],
   "source": [
    "#10 basis point (0.1) - TOF Weekly \n",
    "tof_weekly = df[[\"Date\",\"TOF\",\"TOF_BPS\",\"CVR\",\"CVR_Impact\"]]\n",
    "tof_10bps_weekly = tof_weekly[(tof_weekly['TOF_BPS'] >= 0.1) & (tof_weekly['TOF_BPS'] <= 0.15)]\n",
    "\n",
    "#10 basis point (0.1) - BOF Weekly\n",
    "bof_weekly = df[[\"Date\",\"BOF\",\"BOF_BPS\",\"CVR\",\"CVR_Impact\"]]\n",
    "bof_10bps_weekly = bof_weekly[(bof_weekly['BOF_BPS'] >= 0.1) & (bof_weekly['BOF_BPS'] <= 0.15)]\n",
    "\n",
    "#10 basis point (0.1) - TOF Dayly\n",
    "tof_dayly = df2[[\"Date\",\"TOF\",\"TOF_BPS\",\"CVR\",\"CVR_Impact\"]]\n",
    "tof_10bps_dayly = tof_dayly[(tof_dayly['TOF_BPS'] >= 0.1) & (tof_dayly['TOF_BPS'] <= 0.15)]\n",
    "\n",
    "#10 basis point (0.1) - BOF Daily\n",
    "bof_dayly = df2[[\"Date\",\"BOF\",\"BOF_BPS\",\"CVR\",\"CVR_Impact\"]]\n",
    "bof_10bps_dayly = bof_dayly[(bof_dayly['BOF_BPS'] >= 0.1) & (bof_dayly['BOF_BPS'] <= 0.15)]"
   ]
  },
  {
   "cell_type": "code",
   "execution_count": 6,
   "metadata": {},
   "outputs": [
    {
     "data": {
      "text/plain": [
       "(0.13, 0.12)"
      ]
     },
     "execution_count": 6,
     "metadata": {},
     "output_type": "execute_result"
    }
   ],
   "source": [
    "round(tof_10bps_weekly.TOF_BPS.min(),2),round(bof_10bps_weekly.BOF_BPS.min(),2)"
   ]
  },
  {
   "cell_type": "code",
   "execution_count": 7,
   "metadata": {},
   "outputs": [
    {
     "data": {
      "text/plain": [
       "(0.1, 0.14)"
      ]
     },
     "execution_count": 7,
     "metadata": {},
     "output_type": "execute_result"
    }
   ],
   "source": [
    "round(tof_10bps_dayly.TOF_BPS.min(),2),round(bof_10bps_dayly.BOF_BPS.min(),2)"
   ]
  },
  {
   "cell_type": "code",
   "execution_count": 8,
   "metadata": {},
   "outputs": [
    {
     "data": {
      "text/plain": [
       "(0.13, 0.13)"
      ]
     },
     "execution_count": 8,
     "metadata": {},
     "output_type": "execute_result"
    }
   ],
   "source": [
    "round(tof_10bps_weekly.TOF_BPS.max(),2),round(bof_10bps_weekly.BOF_BPS.max(),2)"
   ]
  },
  {
   "cell_type": "code",
   "execution_count": 9,
   "metadata": {},
   "outputs": [
    {
     "data": {
      "text/plain": [
       "(0.14, 0.15)"
      ]
     },
     "execution_count": 9,
     "metadata": {},
     "output_type": "execute_result"
    }
   ],
   "source": [
    "round(tof_10bps_dayly.TOF_BPS.max(),2),round(bof_10bps_dayly.BOF_BPS.max(),2)"
   ]
  },
  {
   "cell_type": "code",
   "execution_count": 10,
   "metadata": {},
   "outputs": [
    {
     "data": {
      "text/html": [
       "<div>\n",
       "<style scoped>\n",
       "    .dataframe tbody tr th:only-of-type {\n",
       "        vertical-align: middle;\n",
       "    }\n",
       "\n",
       "    .dataframe tbody tr th {\n",
       "        vertical-align: top;\n",
       "    }\n",
       "\n",
       "    .dataframe thead th {\n",
       "        text-align: right;\n",
       "    }\n",
       "</style>\n",
       "<table border=\"1\" class=\"dataframe\">\n",
       "  <thead>\n",
       "    <tr style=\"text-align: right;\">\n",
       "      <th></th>\n",
       "      <th>Date</th>\n",
       "      <th>TOF</th>\n",
       "      <th>TOF_BPS</th>\n",
       "      <th>CVR</th>\n",
       "      <th>CVR_Impact</th>\n",
       "    </tr>\n",
       "  </thead>\n",
       "  <tbody>\n",
       "    <tr>\n",
       "      <td>29</td>\n",
       "      <td>2020-09-06</td>\n",
       "      <td>0.049504</td>\n",
       "      <td>0.128398</td>\n",
       "      <td>0.014866</td>\n",
       "      <td>0.032845</td>\n",
       "    </tr>\n",
       "  </tbody>\n",
       "</table>\n",
       "</div>"
      ],
      "text/plain": [
       "         Date       TOF   TOF_BPS       CVR  CVR_Impact\n",
       "29 2020-09-06  0.049504  0.128398  0.014866    0.032845"
      ]
     },
     "execution_count": 10,
     "metadata": {},
     "output_type": "execute_result"
    }
   ],
   "source": [
    "tof_10bps_weekly"
   ]
  },
  {
   "cell_type": "code",
   "execution_count": 11,
   "metadata": {},
   "outputs": [
    {
     "data": {
      "text/html": [
       "<div>\n",
       "<style scoped>\n",
       "    .dataframe tbody tr th:only-of-type {\n",
       "        vertical-align: middle;\n",
       "    }\n",
       "\n",
       "    .dataframe tbody tr th {\n",
       "        vertical-align: top;\n",
       "    }\n",
       "\n",
       "    .dataframe thead th {\n",
       "        text-align: right;\n",
       "    }\n",
       "</style>\n",
       "<table border=\"1\" class=\"dataframe\">\n",
       "  <thead>\n",
       "    <tr style=\"text-align: right;\">\n",
       "      <th></th>\n",
       "      <th>Date</th>\n",
       "      <th>BOF</th>\n",
       "      <th>BOF_BPS</th>\n",
       "      <th>CVR</th>\n",
       "      <th>CVR_Impact</th>\n",
       "    </tr>\n",
       "  </thead>\n",
       "  <tbody>\n",
       "    <tr>\n",
       "      <td>8</td>\n",
       "      <td>2020-03-29</td>\n",
       "      <td>0.298040</td>\n",
       "      <td>0.121054</td>\n",
       "      <td>0.019375</td>\n",
       "      <td>0.215055</td>\n",
       "    </tr>\n",
       "    <tr>\n",
       "      <td>11</td>\n",
       "      <td>2020-04-19</td>\n",
       "      <td>0.296669</td>\n",
       "      <td>0.129527</td>\n",
       "      <td>0.019213</td>\n",
       "      <td>0.084395</td>\n",
       "    </tr>\n",
       "  </tbody>\n",
       "</table>\n",
       "</div>"
      ],
      "text/plain": [
       "         Date       BOF   BOF_BPS       CVR  CVR_Impact\n",
       "8  2020-03-29  0.298040  0.121054  0.019375    0.215055\n",
       "11 2020-04-19  0.296669  0.129527  0.019213    0.084395"
      ]
     },
     "execution_count": 11,
     "metadata": {},
     "output_type": "execute_result"
    }
   ],
   "source": [
    "bof_10bps_weekly"
   ]
  },
  {
   "cell_type": "code",
   "execution_count": 12,
   "metadata": {},
   "outputs": [
    {
     "data": {
      "text/html": [
       "<div>\n",
       "<style scoped>\n",
       "    .dataframe tbody tr th:only-of-type {\n",
       "        vertical-align: middle;\n",
       "    }\n",
       "\n",
       "    .dataframe tbody tr th {\n",
       "        vertical-align: top;\n",
       "    }\n",
       "\n",
       "    .dataframe thead th {\n",
       "        text-align: right;\n",
       "    }\n",
       "</style>\n",
       "<table border=\"1\" class=\"dataframe\">\n",
       "  <thead>\n",
       "    <tr style=\"text-align: right;\">\n",
       "      <th></th>\n",
       "      <th>Date</th>\n",
       "      <th>BOF</th>\n",
       "      <th>BOF_BPS</th>\n",
       "      <th>CVR</th>\n",
       "      <th>CVR_Impact</th>\n",
       "    </tr>\n",
       "  </thead>\n",
       "  <tbody>\n",
       "    <tr>\n",
       "      <td>104</td>\n",
       "      <td>2020-05-16</td>\n",
       "      <td>0.092302</td>\n",
       "      <td>0.148576</td>\n",
       "      <td>0.019844</td>\n",
       "      <td>0.374662</td>\n",
       "    </tr>\n",
       "    <tr>\n",
       "      <td>112</td>\n",
       "      <td>2020-05-24</td>\n",
       "      <td>0.286422</td>\n",
       "      <td>0.138428</td>\n",
       "      <td>0.020130</td>\n",
       "      <td>0.120900</td>\n",
       "    </tr>\n",
       "  </tbody>\n",
       "</table>\n",
       "</div>"
      ],
      "text/plain": [
       "          Date       BOF   BOF_BPS       CVR  CVR_Impact\n",
       "104 2020-05-16  0.092302  0.148576  0.019844    0.374662\n",
       "112 2020-05-24  0.286422  0.138428  0.020130    0.120900"
      ]
     },
     "execution_count": 12,
     "metadata": {},
     "output_type": "execute_result"
    }
   ],
   "source": [
    "bof_10bps_dayly"
   ]
  },
  {
   "cell_type": "code",
   "execution_count": 13,
   "metadata": {},
   "outputs": [],
   "source": [
    "dataset = pd.read_excel(\"ToF_BoF_Dayly.xlsx\", sheet_name = 'BoF')\n",
    "dataset2 = pd.read_excel(\"ToF_BoF_Dayly.xlsx\", sheet_name = 'ToF')\n",
    "\n",
    "corr_TOF = dataset2[['TOF_BPS','CVR_Impact']]\n",
    "corr_BOF = dataset[['BOF_BPS','CVR_Impact']]"
   ]
  },
  {
   "cell_type": "code",
   "execution_count": 14,
   "metadata": {},
   "outputs": [
    {
     "data": {
      "text/html": [
       "<div>\n",
       "<style scoped>\n",
       "    .dataframe tbody tr th:only-of-type {\n",
       "        vertical-align: middle;\n",
       "    }\n",
       "\n",
       "    .dataframe tbody tr th {\n",
       "        vertical-align: top;\n",
       "    }\n",
       "\n",
       "    .dataframe thead th {\n",
       "        text-align: right;\n",
       "    }\n",
       "</style>\n",
       "<table border=\"1\" class=\"dataframe\">\n",
       "  <thead>\n",
       "    <tr style=\"text-align: right;\">\n",
       "      <th></th>\n",
       "      <th>TOF_BPS</th>\n",
       "      <th>CVR_Impact</th>\n",
       "    </tr>\n",
       "  </thead>\n",
       "  <tbody>\n",
       "    <tr>\n",
       "      <td>TOF_BPS</td>\n",
       "      <td>1.00</td>\n",
       "      <td>0.69</td>\n",
       "    </tr>\n",
       "    <tr>\n",
       "      <td>CVR_Impact</td>\n",
       "      <td>0.69</td>\n",
       "      <td>1.00</td>\n",
       "    </tr>\n",
       "  </tbody>\n",
       "</table>\n",
       "</div>"
      ],
      "text/plain": [
       "            TOF_BPS  CVR_Impact\n",
       "TOF_BPS        1.00        0.69\n",
       "CVR_Impact     0.69        1.00"
      ]
     },
     "execution_count": 14,
     "metadata": {},
     "output_type": "execute_result"
    }
   ],
   "source": [
    "round(corr_TOF.corr(),2)"
   ]
  },
  {
   "cell_type": "code",
   "execution_count": 15,
   "metadata": {},
   "outputs": [
    {
     "data": {
      "text/html": [
       "<div>\n",
       "<style scoped>\n",
       "    .dataframe tbody tr th:only-of-type {\n",
       "        vertical-align: middle;\n",
       "    }\n",
       "\n",
       "    .dataframe tbody tr th {\n",
       "        vertical-align: top;\n",
       "    }\n",
       "\n",
       "    .dataframe thead th {\n",
       "        text-align: right;\n",
       "    }\n",
       "</style>\n",
       "<table border=\"1\" class=\"dataframe\">\n",
       "  <thead>\n",
       "    <tr style=\"text-align: right;\">\n",
       "      <th></th>\n",
       "      <th>BOF_BPS</th>\n",
       "      <th>CVR_Impact</th>\n",
       "    </tr>\n",
       "  </thead>\n",
       "  <tbody>\n",
       "    <tr>\n",
       "      <td>BOF_BPS</td>\n",
       "      <td>1.00</td>\n",
       "      <td>0.35</td>\n",
       "    </tr>\n",
       "    <tr>\n",
       "      <td>CVR_Impact</td>\n",
       "      <td>0.35</td>\n",
       "      <td>1.00</td>\n",
       "    </tr>\n",
       "  </tbody>\n",
       "</table>\n",
       "</div>"
      ],
      "text/plain": [
       "            BOF_BPS  CVR_Impact\n",
       "BOF_BPS        1.00        0.35\n",
       "CVR_Impact     0.35        1.00"
      ]
     },
     "execution_count": 15,
     "metadata": {},
     "output_type": "execute_result"
    }
   ],
   "source": [
    "round(corr_BOF.corr(),2)"
   ]
  },
  {
   "cell_type": "markdown",
   "metadata": {},
   "source": [
    "# Build Models for Prediction"
   ]
  },
  {
   "cell_type": "code",
   "execution_count": 16,
   "metadata": {},
   "outputs": [],
   "source": [
    "#Stats Model - osl algorithm\n",
    "import statsmodels.formula.api as sm\n",
    "dataset = pd.read_excel(\"ToF_BoF_Dayly.xlsx\", sheet_name = 'BoF')\n",
    "dataset2 = pd.read_excel(\"ToF_BoF_Dayly.xlsx\", sheet_name = 'ToF')\n",
    "df_ToF = dataset2[['TOF_BPS', 'CVR_Impact']]\n",
    "df_ToF_log = np.log(df_ToF)\n",
    "result2 = sm.ols(formula = 'CVR_Impact ~ TOF_BPS',data = df_ToF_log ).fit()\n",
    "#result.params\n",
    "#result.summary()"
   ]
  },
  {
   "cell_type": "code",
   "execution_count": 17,
   "metadata": {},
   "outputs": [
    {
     "data": {
      "text/plain": [
       "Intercept   -5.920873\n",
       "TOF_BPS      0.902083\n",
       "dtype: float64"
      ]
     },
     "execution_count": 17,
     "metadata": {},
     "output_type": "execute_result"
    }
   ],
   "source": [
    "result2.params"
   ]
  },
  {
   "cell_type": "code",
   "execution_count": 26,
   "metadata": {},
   "outputs": [
    {
     "data": {
      "text/plain": [
       "(0.03, 0.6)"
      ]
     },
     "execution_count": 26,
     "metadata": {},
     "output_type": "execute_result"
    }
   ],
   "source": [
    "round(result.rsquared,2),round(result2.rsquared,2)"
   ]
  },
  {
   "cell_type": "code",
   "execution_count": 18,
   "metadata": {},
   "outputs": [
    {
     "name": "stderr",
     "output_type": "stream",
     "text": [
      "C:\\Users\\bagabi\\AppData\\Local\\Continuum\\anaconda3\\lib\\site-packages\\ipykernel_launcher.py:16: DataConversionWarning: A column-vector y was passed when a 1d array was expected. Please change the shape of y to (n_samples,), for example using ravel().\n",
      "  app.launch_new_instance()\n"
     ]
    },
    {
     "data": {
      "image/png": "[encoded data removed]",
      "text/plain": [
       "<Figure size 432x288 with 1 Axes>"
      ]
     },
     "metadata": {
      "needs_background": "light"
     },
     "output_type": "display_data"
    }
   ],
   "source": [
    "from sklearn.linear_model import LinearRegression\n",
    "from sklearn.ensemble import RandomForestRegressor\n",
    "from sklearn.metrics import explained_variance_score,r2_score\n",
    "\n",
    "dataset = pd.read_excel(\"ToF_BoF_Dayly.xlsx\", sheet_name = 'BoF')\n",
    "dataset2 = pd.read_excel(\"ToF_BoF_Dayly.xlsx\", sheet_name = 'ToF')\n",
    "\n",
    "X = dataset2[[\"TOF_BPS\"]].values\n",
    "y = dataset2[['CVR_Impact']].values\n",
    "\n",
    "X = np.log(X)\n",
    "y = np.log(y)\n",
    "\n",
    "#Fit a random forest algorithm\n",
    "rf_TOF = RandomForestRegressor(n_estimators=1000, random_state=42)\n",
    "rf_TOF.fit(X,y)\n",
    "\n",
    "#4 Visualising the Regression results (for higher resolution and smoother curve)\n",
    "X_grid = np.arange(min(X), max(X), 0.01)\n",
    "X_grid = X_grid.reshape((len(X_grid), 1))\n",
    "plt.scatter(X, y, color = 'red')\n",
    "plt.plot(X_grid, rf_TOF.predict(X_grid), color = 'blue')\n",
    "plt.title('Random Forest Regression Model)')\n",
    "plt.xlabel('TOF BPS')\n",
    "plt.ylabel('CVR Impact')\n",
    "plt.show()"
   ]
  },
  {
   "cell_type": "code",
   "execution_count": 45,
   "metadata": {},
   "outputs": [
    {
     "data": {
      "text/plain": [
       "0.93"
      ]
     },
     "execution_count": 45,
     "metadata": {},
     "output_type": "execute_result"
    }
   ],
   "source": [
    "accuracy_ToF = round(rf_TOF.score(X, y),2)\n",
    "accuracy_ToF"
   ]
  },
  {
   "cell_type": "code",
   "execution_count": 23,
   "metadata": {},
   "outputs": [
    {
     "data": {
      "text/plain": [
       "array([0.0341821])"
      ]
     },
     "execution_count": 23,
     "metadata": {},
     "output_type": "execute_result"
    }
   ],
   "source": [
    "y_predToF_100bps = np.exp(rf_TOF.predict([[-2.3025850929940455]]))*100\n",
    "y_predToF_100bps"
   ]
  },
  {
   "cell_type": "code",
   "execution_count": 28,
   "metadata": {},
   "outputs": [
    {
     "data": {
      "text/plain": [
       "1.0"
      ]
     },
     "execution_count": 28,
     "metadata": {},
     "output_type": "execute_result"
    }
   ],
   "source": [
    "b = np.exp(0)\n",
    "b"
   ]
  },
  {
   "cell_type": "code",
   "execution_count": 22,
   "metadata": {},
   "outputs": [
    {
     "data": {
      "text/plain": [
       "-2.3025850929940455"
      ]
     },
     "execution_count": 22,
     "metadata": {},
     "output_type": "execute_result"
    }
   ],
   "source": [
    "log = np.log(0.1)\n",
    "log"
   ]
  },
  {
   "cell_type": "code",
   "execution_count": 20,
   "metadata": {},
   "outputs": [
    {
     "data": {
      "text/html": [
       "<div>\n",
       "<style scoped>\n",
       "    .dataframe tbody tr th:only-of-type {\n",
       "        vertical-align: middle;\n",
       "    }\n",
       "\n",
       "    .dataframe tbody tr th {\n",
       "        vertical-align: top;\n",
       "    }\n",
       "\n",
       "    .dataframe thead th {\n",
       "        text-align: right;\n",
       "    }\n",
       "</style>\n",
       "<table border=\"1\" class=\"dataframe\">\n",
       "  <thead>\n",
       "    <tr style=\"text-align: right;\">\n",
       "      <th></th>\n",
       "      <th>Date</th>\n",
       "      <th>TOF</th>\n",
       "      <th>TOF_BPS</th>\n",
       "      <th>CVR</th>\n",
       "      <th>CVR_Impact</th>\n",
       "      <th>log_prediction_cvr</th>\n",
       "      <th>prediction_cvr</th>\n",
       "      <th>CVR_BPS</th>\n",
       "    </tr>\n",
       "  </thead>\n",
       "  <tbody>\n",
       "    <tr>\n",
       "      <td>0</td>\n",
       "      <td>2020-02-08</td>\n",
       "      <td>0.034079</td>\n",
       "      <td>95.071826</td>\n",
       "      <td>0.012902</td>\n",
       "      <td>0.003906</td>\n",
       "      <td>-5.507914</td>\n",
       "      <td>0.004055</td>\n",
       "      <td>40.545574</td>\n",
       "    </tr>\n",
       "    <tr>\n",
       "      <td>1</td>\n",
       "      <td>2020-02-09</td>\n",
       "      <td>0.038468</td>\n",
       "      <td>43.884574</td>\n",
       "      <td>0.014262</td>\n",
       "      <td>0.001360</td>\n",
       "      <td>-6.608972</td>\n",
       "      <td>0.001348</td>\n",
       "      <td>13.482172</td>\n",
       "    </tr>\n",
       "    <tr>\n",
       "      <td>2</td>\n",
       "      <td>2020-02-14</td>\n",
       "      <td>0.021966</td>\n",
       "      <td>0.889809</td>\n",
       "      <td>0.007724</td>\n",
       "      <td>0.000138</td>\n",
       "      <td>-8.747066</td>\n",
       "      <td>0.000159</td>\n",
       "      <td>1.589269</td>\n",
       "    </tr>\n",
       "    <tr>\n",
       "      <td>3</td>\n",
       "      <td>2020-02-15</td>\n",
       "      <td>0.032928</td>\n",
       "      <td>109.621585</td>\n",
       "      <td>0.011931</td>\n",
       "      <td>0.004207</td>\n",
       "      <td>-5.807271</td>\n",
       "      <td>0.003006</td>\n",
       "      <td>30.056214</td>\n",
       "    </tr>\n",
       "    <tr>\n",
       "      <td>4</td>\n",
       "      <td>2020-02-16</td>\n",
       "      <td>0.035651</td>\n",
       "      <td>27.225257</td>\n",
       "      <td>0.014123</td>\n",
       "      <td>0.002192</td>\n",
       "      <td>-6.588928</td>\n",
       "      <td>0.001376</td>\n",
       "      <td>13.755137</td>\n",
       "    </tr>\n",
       "  </tbody>\n",
       "</table>\n",
       "</div>"
      ],
      "text/plain": [
       "        Date       TOF     TOF_BPS       CVR  CVR_Impact  log_prediction_cvr  \\\n",
       "0 2020-02-08  0.034079   95.071826  0.012902    0.003906           -5.507914   \n",
       "1 2020-02-09  0.038468   43.884574  0.014262    0.001360           -6.608972   \n",
       "2 2020-02-14  0.021966    0.889809  0.007724    0.000138           -8.747066   \n",
       "3 2020-02-15  0.032928  109.621585  0.011931    0.004207           -5.807271   \n",
       "4 2020-02-16  0.035651   27.225257  0.014123    0.002192           -6.588928   \n",
       "\n",
       "   prediction_cvr    CVR_BPS  \n",
       "0        0.004055  40.545574  \n",
       "1        0.001348  13.482172  \n",
       "2        0.000159   1.589269  \n",
       "3        0.003006  30.056214  \n",
       "4        0.001376  13.755137  "
      ]
     },
     "execution_count": 20,
     "metadata": {},
     "output_type": "execute_result"
    }
   ],
   "source": [
    "df = dataset2.copy()\n",
    "predict_TOF = rf_TOF.predict(X)\n",
    "df['log_prediction_cvr'] = predict_TOF\n",
    "df['prediction_cvr'] = np.exp(df['log_prediction_cvr'])\n",
    "df['TOF_BPS'] = df['TOF_BPS']*100\n",
    "df['CVR_BPS'] = df['prediction_cvr']*10000\n",
    "df.head()"
   ]
  },
  {
   "cell_type": "code",
   "execution_count": 71,
   "metadata": {},
   "outputs": [
    {
     "name": "stderr",
     "output_type": "stream",
     "text": [
      "C:\\Users\\bagabi\\AppData\\Local\\Continuum\\anaconda3\\lib\\site-packages\\ipykernel_launcher.py:11: DataConversionWarning: A column-vector y was passed when a 1d array was expected. Please change the shape of y to (n_samples,), for example using ravel().\n",
      "  # This is added back by InteractiveShellApp.init_path()\n"
     ]
    },
    {
     "data": {
      "image/png": "[encoded data removed]",
      "text/plain": [
       "<Figure size 432x288 with 1 Axes>"
      ]
     },
     "metadata": {
      "needs_background": "light"
     },
     "output_type": "display_data"
    }
   ],
   "source": [
    "dataset = pd.read_excel(\"ToF_BoF_Dayly.xlsx\", sheet_name = 'BoF')\n",
    "\n",
    "X = dataset[[\"BOF_BPS\"]].values\n",
    "y = dataset[['CVR_Impact']].values\n",
    "\n",
    "X = np.log(X)\n",
    "y = np.log(y)\n",
    "\n",
    "#Fit a random forest algorithm\n",
    "rf_BOF = RandomForestRegressor(n_estimators=1000, random_state=42)\n",
    "rf_BOF.fit(X,y)\n",
    "\n",
    "#4 Visualising the Regression results (for higher resolution and smoother curve)\n",
    "X_grid = np.arange(min(X), max(X), 0.01)\n",
    "X_grid = X_grid.reshape((len(X_grid), 1))\n",
    "plt.scatter(X, y, color = 'red')\n",
    "plt.plot(X_grid, rf_BOF.predict(X_grid), color = 'blue')\n",
    "plt.title('Random Forest Regression Model)')\n",
    "plt.xlabel('BOF BPS')\n",
    "plt.ylabel('CVR Impact')\n",
    "plt.show()"
   ]
  },
  {
   "cell_type": "code",
   "execution_count": 47,
   "metadata": {},
   "outputs": [
    {
     "data": {
      "text/plain": [
       "0.8"
      ]
     },
     "execution_count": 47,
     "metadata": {},
     "output_type": "execute_result"
    }
   ],
   "source": [
    "#Check moedl accuracy for dayly dataset - Random Forest Algorithm\n",
    "accuracy_BoF = round(rf_BOF.score(X, y),2)\n",
    "accuracy_BoF"
   ]
  },
  {
   "cell_type": "code",
   "execution_count": 91,
   "metadata": {},
   "outputs": [
    {
     "data": {
      "text/plain": [
       "array([0.36793003])"
      ]
     },
     "execution_count": 91,
     "metadata": {},
     "output_type": "execute_result"
    }
   ],
   "source": [
    "y_predBoF_10bps = np.exp(rf_BOF.predict([[0.0]]))*100\n",
    "y_predBoF_10bps"
   ]
  },
  {
   "cell_type": "code",
   "execution_count": 90,
   "metadata": {},
   "outputs": [
    {
     "data": {
      "text/plain": [
       "0.0"
      ]
     },
     "execution_count": 90,
     "metadata": {},
     "output_type": "execute_result"
    }
   ],
   "source": [
    "log = np.log(1)\n",
    "log"
   ]
  },
  {
   "cell_type": "code",
   "execution_count": 73,
   "metadata": {},
   "outputs": [
    {
     "data": {
      "image/png": "[encoded data removed]",
      "text/plain": [
       "<Figure size 432x288 with 1 Axes>"
      ]
     },
     "metadata": {
      "needs_background": "light"
     },
     "output_type": "display_data"
    }
   ],
   "source": [
    "from sklearn.svm import SVR\n",
    "from sklearn.ensemble import AdaBoostRegressor\n",
    "from sklearn.tree import DecisionTreeRegressor\n",
    "from sklearn.metrics import explained_variance_score,r2_score\n",
    "\n",
    "dataset = pd.read_excel(\"ToF_BoF_Dayly.xlsx\", sheet_name = 'BoF')\n",
    "dataset2 = pd.read_excel(\"ToF_BoF_Dayly.xlsx\", sheet_name = 'ToF')\n",
    "\n",
    "X = dataset2[[\"TOF_BPS\"]].values\n",
    "y = dataset2[['CVR_Impact']].values\n",
    "\n",
    "X = np.log(X)\n",
    "y = np.log(y)\n",
    "\n",
    "# Fit a Linear Regression Model\n",
    "reg = LinearRegression().fit(X, y)\n",
    "\n",
    "#4 Visualising the Regression results (for higher resolution and #smoother curve)\n",
    "X_grid = np.arange(min(X), max(X), 0.01)\n",
    "X_grid = X_grid.reshape((len(X_grid), 1))\n",
    "plt.scatter(X, y, color = 'red')\n",
    "plt.plot(X_grid, reg.predict(X_grid), color = 'blue')\n",
    "plt.title('Linear Regression Model)')\n",
    "plt.xlabel('BOF BPS')\n",
    "plt.ylabel('CVR Impact')\n",
    "plt.show()"
   ]
  },
  {
   "cell_type": "code",
   "execution_count": 72,
   "metadata": {},
   "outputs": [
    {
     "data": {
      "text/plain": [
       "0.6"
      ]
     },
     "execution_count": 72,
     "metadata": {},
     "output_type": "execute_result"
    }
   ],
   "source": [
    "#Linear Regression accuracy\n",
    "lr_ToF = round(reg.score(X, y),2)\n",
    "lr_ToF"
   ]
  },
  {
   "cell_type": "code",
   "execution_count": 44,
   "metadata": {},
   "outputs": [
    {
     "data": {
      "text/plain": [
       "(array([[0.90208314]]), array([-5.92087289]))"
      ]
     },
     "execution_count": 44,
     "metadata": {},
     "output_type": "execute_result"
    }
   ],
   "source": [
    "reg.coef_,reg.intercept_"
   ]
  },
  {
   "cell_type": "code",
   "execution_count": 74,
   "metadata": {},
   "outputs": [
    {
     "name": "stderr",
     "output_type": "stream",
     "text": [
      "C:\\Users\\bagabi\\AppData\\Local\\Continuum\\anaconda3\\lib\\site-packages\\sklearn\\utils\\validation.py:73: DataConversionWarning: A column-vector y was passed when a 1d array was expected. Please change the shape of y to (n_samples, ), for example using ravel().\n",
      "  return f(**kwargs)\n"
     ]
    },
    {
     "data": {
      "text/plain": [
       "SGDRegressor()"
      ]
     },
     "execution_count": 74,
     "metadata": {},
     "output_type": "execute_result"
    }
   ],
   "source": [
    "from sklearn import linear_model\n",
    "from sklearn.linear_model import SGDRegressor\n",
    "\n",
    "X = dataset2[[\"TOF_BPS\"]].values\n",
    "y = dataset2[['CVR_Impact']].values\n",
    "\n",
    "X = np.log(X)\n",
    "y = np.log(y)\n",
    "sgd = SGDRegressor(max_iter=1000, tol=1e-3)\n",
    "sgd.fit(X, y)"
   ]
  },
  {
   "cell_type": "code",
   "execution_count": 75,
   "metadata": {},
   "outputs": [
    {
     "data": {
      "text/plain": [
       "0.59"
      ]
     },
     "execution_count": 75,
     "metadata": {},
     "output_type": "execute_result"
    }
   ],
   "source": [
    "round(sgd.score(X, y),2)"
   ]
  },
  {
   "cell_type": "code",
   "execution_count": 19,
   "metadata": {},
   "outputs": [
    {
     "data": {
      "image/png": "[encoded data removed]",
      "text/plain": [
       "<Figure size 432x288 with 1 Axes>"
      ]
     },
     "metadata": {
      "needs_background": "light"
     },
     "output_type": "display_data"
    }
   ],
   "source": [
    "from sklearn.neighbors import KNeighborsRegressor\n",
    "\n",
    "dataset = pd.read_excel(\"ToF_BoF_Dayly.xlsx\", sheet_name = 'BoF')\n",
    "dataset2 = pd.read_excel(\"ToF_BoF_Dayly.xlsx\", sheet_name = 'ToF')\n",
    "\n",
    "X = dataset2[[\"TOF_BPS\"]].values\n",
    "y = dataset2[['CVR_Impact']].values\n",
    "\n",
    "X = np.log(X)\n",
    "y = np.log(y)\n",
    "\n",
    "#regressor = LinearRegression()\n",
    "model2 = KNeighborsRegressor().fit(X, y)\n",
    "\n",
    "#4 Visualising the Regression results (for higher resolution and #smoother curve)\n",
    "X_grid = np.arange(min(X), max(X), 0.01)\n",
    "X_grid = X_grid.reshape((len(X_grid), 1))\n",
    "plt.scatter(X, y, color = 'red')\n",
    "plt.plot(X_grid, model2.predict(X_grid), color = 'blue')\n",
    "plt.title('KNeighbors Regression Model)')\n",
    "plt.xlabel('BOF BPS')\n",
    "plt.ylabel('CVR Impact')\n",
    "plt.show()"
   ]
  },
  {
   "cell_type": "code",
   "execution_count": 47,
   "metadata": {},
   "outputs": [
    {
     "data": {
      "text/plain": [
       "0.74"
      ]
     },
     "execution_count": 47,
     "metadata": {},
     "output_type": "execute_result"
    }
   ],
   "source": [
    "#KNeighbors Regression accuracy\n",
    "kn_ToF = round(model2.score(X, y),2)\n",
    "kn_ToF"
   ]
  },
  {
   "cell_type": "code",
   "execution_count": 54,
   "metadata": {},
   "outputs": [
    {
     "data": {
      "text/plain": [
       "Pipeline(steps=[('polynomial', PolynomialFeatures()),\n",
       "                ('modal', LinearRegression())])"
      ]
     },
     "execution_count": 54,
     "metadata": {},
     "output_type": "execute_result"
    }
   ],
   "source": [
    "# importing libraries for polynomial transform\n",
    "from sklearn.preprocessing import PolynomialFeatures\n",
    "from sklearn.pipeline import Pipeline\n",
    "\n",
    "dataset = pd.read_excel(\"ToF_BoF_Dayly.xlsx\", sheet_name = 'BoF')\n",
    "dataset2 = pd.read_excel(\"ToF_BoF_Dayly.xlsx\", sheet_name = 'ToF')\n",
    "\n",
    "x = dataset2[[\"TOF_BPS\"]].values\n",
    "y = dataset2[['CVR_Impact']].values\n",
    "\n",
    "x = np.log(x)\n",
    "y = np.log(y)\n",
    "\n",
    "#x = x.dropna()\n",
    "#y = y.dropna()\n",
    "\n",
    "lm=LinearRegression()\n",
    "lm.fit(x.reshape(-1,1),y.reshape(-1,1))\n",
    "\n",
    "#Creating pipeline and fitting it on data\n",
    "Input=[('polynomial',PolynomialFeatures(degree=2)),('modal',LinearRegression())]\n",
    "pipe=Pipeline(Input)\n",
    "pipe.fit(x.reshape(-1,1),y.reshape(-1,1))"
   ]
  },
  {
   "cell_type": "code",
   "execution_count": 55,
   "metadata": {
    "scrolled": true
   },
   "outputs": [
    {
     "data": {
      "image/png": "[encoded data removed]",
      "text/plain": [
       "<Figure size 720x432 with 1 Axes>"
      ]
     },
     "metadata": {
      "needs_background": "light"
     },
     "output_type": "display_data"
    }
   ],
   "source": [
    "y_pred=lm.predict(x.reshape(-1,1))\n",
    "poly_pred=pipe.predict(x.reshape(-1,1))\n",
    "\n",
    "#sorting predicted values with respect to predictor\n",
    "sorted_zip = sorted(zip(x,poly_pred))\n",
    "x_poly, poly_pred = zip(*sorted_zip)\n",
    "\n",
    "#plotting predictions\n",
    "plt.figure(figsize=(10,6))\n",
    "plt.scatter(x,y,s=15)\n",
    "plt.plot(x,y_pred,color='r',label='Linear Regression')\n",
    "plt.plot(x_poly,poly_pred,color='g',label='Polynomial Regression')\n",
    "plt.xlabel('Predictor',fontsize=16)\n",
    "plt.ylabel('Target',fontsize=16)\n",
    "plt.legend()\n",
    "plt.show()"
   ]
  },
  {
   "cell_type": "code",
   "execution_count": 57,
   "metadata": {},
   "outputs": [
    {
     "name": "stdout",
     "output_type": "stream",
     "text": [
      "RMSE for Linear Regression=> 0.8741783673749787\n"
     ]
    }
   ],
   "source": [
    "from sklearn.metrics import mean_squared_error\n",
    "print('RMSE for Linear Regression=>',np.sqrt(mean_squared_error(y,y_pred)))"
   ]
  },
  {
   "cell_type": "code",
   "execution_count": 58,
   "metadata": {},
   "outputs": [
    {
     "name": "stdout",
     "output_type": "stream",
     "text": [
      "RMSE for Polynomial Regression=> 1.7657699416939754\n"
     ]
    }
   ],
   "source": [
    "print('RMSE for Polynomial Regression=>',np.sqrt(mean_squared_error(y,poly_pred)))"
   ]
  },
  {
   "cell_type": "code",
   "execution_count": null,
   "metadata": {},
   "outputs": [],
   "source": []
  }
 ],
 "metadata": {
  "kernelspec": {
   "display_name": "Python 3",
   "language": "python",
   "name": "python3"
  },
  "language_info": {
   "codemirror_mode": {
    "name": "ipython",
    "version": 3
   },
   "file_extension": ".py",
   "mimetype": "text/x-python",
   "name": "python",
   "nbconvert_exporter": "python",
   "pygments_lexer": "ipython3",
   "version": "3.7.4"
  }
 },
 "nbformat": 4,
 "nbformat_minor": 2
}
